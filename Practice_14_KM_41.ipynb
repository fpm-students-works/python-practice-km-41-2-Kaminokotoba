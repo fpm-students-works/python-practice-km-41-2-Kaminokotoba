{
 "cells": [
  {
   "cell_type": "markdown",
   "metadata": {
    "id": "FMqboNwO4rVs"
   },
   "source": [
    "# **Курс \"Програмування на мові Python\"**"
   ]
  },
  {
   "cell_type": "markdown",
   "metadata": {
    "id": "A2T6MigL5Z06"
   },
   "source": [
    "## **Практичне зайняття №16**\n",
    "\n",
    "### Тема: \"Декоратори\""
   ]
  },
  {
   "cell_type": "markdown",
   "metadata": {},
   "source": [
    "### **Завдання 1 (3 бали)**\n",
    "\n",
    "Реалізуйте підрахунок площі трикутника з використанням декоратора, який перевірятиме можливість побудови трикутника з трьох введених користувачем сторін.\n",
    "\n",
    "1. Напишіть функцію area_calculation, яка підраховуватиме площу трикутника за трьома сторонами. Для підрахунку можете скористатись формулою Герона.\n",
    "\n",
    "2. Напишіть функцію check, яка перевірятиме правильність введених користувачем значень (значення мають бути додатними числами, не обов'язково цілими).\n",
    "\n",
    "3. Створіть декоратор triangle_ineq, який перевірятиме виконання нерівності трикутрика для трьох заданих користувачем сторін. Навісьте декоратор triangle_ineq на функція area_calculation та перевірте правильність роботи програми."
   ]
  },
  {
   "cell_type": "code",
   "execution_count": null,
   "metadata": {},
   "outputs": [
    {
     "name": "stdout",
     "output_type": "stream",
     "text": [
      "Значення перевірені, все добре\n",
      "Площа трикутника: S = 9.921567416492215\n"
     ]
    }
   ],
   "source": [
    "import math\n",
    "def triangle_ineq(func):\n",
    "    def wrapper(a, b, c):\n",
    "        if a + b > c and a + c > b and b + c > a:\n",
    "         return func(a, b, c)\n",
    "        else:\n",
    "         print(\"Нерівність трикутника не виконується, неможливо обчислити площу\")\n",
    "         return None\n",
    "    return wrapper\n",
    "@triangle_ineq\n",
    "def area_calculation(a, b, c):\n",
    "    p = (a + b + c) / 2\n",
    "    S = math.sqrt(p * (p - a) * (p - b) * (p - c))\n",
    "    return S\n",
    "def check(a, b, c):\n",
    "    if a <= 0 or b <= 0 or c <= 0:\n",
    "     print(\"Одне з введених чисел не є додатнім\")\n",
    "     return False\n",
    "    else:\n",
    "     print(\"Значення перевірені, все добре\")\n",
    "     return True\n",
    "try:\n",
    " a = float(input(\"Введіть число a (додатнє): \"))\n",
    " b = float(input(\"Введіть число b (додатнє): \"))\n",
    " c = float(input(\"Введіть число c (додатнє): \"))\n",
    " if check(a, b, c)==True:\n",
    "    S = area_calculation(a, b, c)\n",
    "    if S is not None:\n",
    "     print(f\"Площа трикутника: S = {S}\")\n",
    " else:\n",
    "    print(\"Не можливо порахувати площу з недодатнім числом\")\n",
    "except ValueError:\n",
    "    print(\"Будь ласка, введіть числові значення\")"
   ]
  }
 ],
 "metadata": {
  "colab": {
   "collapsed_sections": [],
   "name": "Practice_10-11_KM_01_.ipynb",
   "provenance": []
  },
  "kernelspec": {
   "display_name": "Python 3",
   "name": "python3"
  },
  "language_info": {
   "codemirror_mode": {
    "name": "ipython",
    "version": 3
   },
   "file_extension": ".py",
   "mimetype": "text/x-python",
   "name": "python",
   "nbconvert_exporter": "python",
   "pygments_lexer": "ipython3",
   "version": "3.12.6"
  }
 },
 "nbformat": 4,
 "nbformat_minor": 0
}
