{
 "cells": [
  {
   "cell_type": "markdown",
   "metadata": {
    "id": "FMqboNwO4rVs"
   },
   "source": [
    "# **Курс \"Програмування на мові Python\"**"
   ]
  },
  {
   "cell_type": "markdown",
   "metadata": {
    "id": "A2T6MigL5Z06"
   },
   "source": [
    "## **Практичне зайняття №9**\n",
    "\n",
    "### Тема: \"Робота з функціями. Локальні та глобальні змінні\""
   ]
  },
  {
   "cell_type": "markdown",
   "metadata": {
    "id": "cfCdgK2zXm7e"
   },
   "source": [
    "### **Завдання 1 (3 бали)**\n",
    "\n",
    "**Підрахувати визначник матриці, використовуючи правило перестановок.**\n",
    "\n",
    "Функція random_matrix() призначена для створення квадратної матриці випадкових чисел. Її змінювати непотрібно.\n",
    "\n",
    "Приклад використання методу permutations() для створення списку перестановок також подається у комірці з кодом.\n",
    "\n",
    "1) Створити 3 функції: функцію створення списку перестановок, функцію підрахунку добутків та функцію підрахунку загальної суми.\n",
    "\n",
    "2) Кожна функція має супроводжуватись рядком документації, що буде коротко описувати її призначення.\n",
    "\n",
    "3) Розмірність квадратної матриці має вводитись користувачем з клавіатури. Підрахунки виконувати лише в тому разі, якщо користувач введе ціле додатне число.\n",
    "\n",
    "4) Загальний результат повинен підраховуватись за допомогою композиції функцій.\n",
    "\n",
    "За бажанням можна перевірити правильність роботи програми за допомогою функції np.linalg.det(a)."
   ]
  },
  {
   "cell_type": "code",
   "execution_count": null,
   "metadata": {
    "id": "ifNX2M7LXm7f"
   },
   "outputs": [
    {
     "name": "stdout",
     "output_type": "stream",
     "text": [
      "Сгенерована матриця:\n",
      "[[2 5]\n",
      " [1 1]]\n",
      "Визначник матриці: -3\n"
     ]
    }
   ],
   "source": [
    "import numpy as np\n",
    "import itertools\n",
    "def random_matrix(dim):\n",
    "    \"\"\"\n",
    "    The function generates dim x dim array of integers\n",
    "    between 0 and 10.\n",
    "    \"\"\"\n",
    "    matrix = np.random.randint(10, size = (dim, dim))\n",
    "    return matrix\n",
    "def create_permutations(n):\n",
    "    \"\"\"\n",
    "    Створює список всіх перестановок чисел від 0 до n-1\n",
    "    \"\"\"\n",
    "    return list(itertools.permutations(range(n)))\n",
    "def calculate_product(matrix, perm):\n",
    "    \"\"\"\n",
    "    Обчислює добуток елементів у матриці на основі заданої перестановки.\n",
    "    \"\"\"\n",
    "    product = 1\n",
    "    for i in range(len(perm)):\n",
    "     product *= matrix[i][perm[i]]\n",
    "    return product\n",
    "def calculate_determinant(matrix):\n",
    "    \"\"\"\n",
    "    Обчислює визначник матриці за допомогою правила перестановок.\n",
    "    \"\"\"\n",
    "    n = matrix.shape[0]\n",
    "    permutations_list = create_permutations(n)\n",
    "    determinant_sum = 0\n",
    "    for perm in permutations_list:\n",
    "        inversion_count = 0\n",
    "        for i in range(n):\n",
    "           for j in range(i + 1, n):\n",
    "              if perm[i] > perm[j]:\n",
    "                 inversion_count += 1\n",
    "        sign = (-1) ** inversion_count\n",
    "        product = calculate_product(matrix, perm)\n",
    "        determinant_sum += sign * product\n",
    "    return determinant_sum\n",
    "while True:\n",
    " try:\n",
    "  dim = int(input(\"Введіть натуральне число від 1 до n: \"))\n",
    "  if dim > 0:\n",
    "   break\n",
    "  else:\n",
    "   print(\"Помилка: введіть чило більше 0\")\n",
    " except ValueError:\n",
    "   print(\"Помилка: введено не число\")\n",
    "matrix = random_matrix(dim)\n",
    "print(\"Сгенерована матриця:\")\n",
    "print(matrix) \n",
    "determinant = calculate_determinant(matrix)\n",
    "print(f\"Визначник матриці: {determinant}\")\n"
   ]
  }
 ],
 "metadata": {
  "colab": {
   "collapsed_sections": [],
   "name": "Practice_7_KM-01_.ipynb",
   "provenance": []
  },
  "kernelspec": {
   "display_name": "Python 3",
   "language": "python",
   "name": "python3"
  },
  "language_info": {
   "codemirror_mode": {
    "name": "ipython",
    "version": 3
   },
   "file_extension": ".py",
   "mimetype": "text/x-python",
   "name": "python",
   "nbconvert_exporter": "python",
   "pygments_lexer": "ipython3",
   "version": "3.12.6"
  }
 },
 "nbformat": 4,
 "nbformat_minor": 0
}
