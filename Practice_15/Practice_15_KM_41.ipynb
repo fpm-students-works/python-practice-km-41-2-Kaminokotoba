{
 "cells": [
  {
   "cell_type": "markdown",
   "metadata": {
    "id": "FMqboNwO4rVs"
   },
   "source": [
    "# **Курс \"Програмування на мові Python\"**"
   ]
  },
  {
   "cell_type": "markdown",
   "metadata": {
    "id": "A2T6MigL5Z06"
   },
   "source": [
    "## **Практичне зайняття №13**\n",
    "\n",
    "### Тема: \"Робота з файлами\""
   ]
  },
  {
   "cell_type": "markdown",
   "metadata": {
    "id": "cfCdgK2zXm7e"
   },
   "source": [
    "### **Завдання 1 (1,5 бали)**\n",
    "\n",
    "У 1939 році друком вийшов роман американського письменика Ернеста Вінсента Райта \"Ґетсбі\". Особливу увагу публіки він здобув через те, що письменник жодного разу не використав у романі літеру \"e\" (роман складається з більше ніж 50,000 слів), яка є найбільш вживаною літерою в англійській мові.\n",
    "\n",
    "Порахуйте кількість входжень кожної літери у текст роману. Виведіть список літер англійського алфавіту, а також інформацію про те, скільки відсотків від усіх літер тексту складає кожна літера алфавіту.\n",
    "\n",
    "Зауваження:\n",
    "\n",
    "1. Програма має ігнорувати будь-які символи, окрім літер.\n",
    "\n",
    "2. Переведіть усі літери у верхній або у нижній регістр.\n",
    "\n",
    "3. Під час виведення відсортуйте літери у порядку зменшення їхнього відсотка. Літера \"e\" має стояти на останньому місці у цьому списку (хоча кілька літер e там все ж таки зустрічається).\n",
    "\n",
    "4. Виведіть перші 5 та останні 5 літер відсортованого списку разом з відсотковими значеннями, що їм відповідають. Відсотки округліть до тисячних."
   ]
  },
  {
   "cell_type": "code",
   "execution_count": 3,
   "metadata": {
    "id": "u4-fHJJ6U462",
    "tags": [
     "outputPrepend"
    ]
   },
   "outputs": [
    {
     "name": "stdout",
     "output_type": "stream",
     "text": [
      "Перші 5 літер:\n",
      "a: 10.952%\n",
      "o: 10.419%\n",
      "i: 8.825%\n",
      "n: 8.597%\n",
      "t: 8.494%\n",
      "Останні 5 літер:\n",
      "j: 0.23%\n",
      "z: 0.107%\n",
      "x: 0.079%\n",
      "q: 0.051%\n",
      "e: 0.002%\n"
     ]
    }
   ],
   "source": [
    "from collections import Counter\n",
    "import string\n",
    "with open('gadsby.txt', 'r', encoding='utf-8') as file:\n",
    " text = file.read()\n",
    "filtered_text = []\n",
    "for char in text:\n",
    "    if char.isalpha() and char in string.ascii_letters:\n",
    "        filtered_text.append(char.lower())\n",
    "filtered_text = ''.join(filtered_text)\n",
    "letter_counts = Counter(filtered_text)\n",
    "total_letters = sum(letter_counts.values())\n",
    "letter_percentages = {}\n",
    "for letter, count in letter_counts.items():\n",
    "    percentage = (count / total_letters) * 100\n",
    "    letter_percentages[letter] = round(percentage, 3)\n",
    "sorted_letters_list = []\n",
    "for item in letter_percentages.items():\n",
    "    letter, percentage = item\n",
    "    if letter == 'e':\n",
    "        sort_key = 'z'\n",
    "    else:\n",
    "        sort_key = letter\n",
    "    sorted_letters_list.append((letter, percentage, sort_key))\n",
    "sorted_letters_list.sort(key=lambda x: (-x[1], x[2]))\n",
    "sorted_letters = []\n",
    "for letter, percentage, _ in sorted_letters_list:\n",
    "    sorted_letters.append((letter, percentage))\n",
    "sorted_letters_split = []\n",
    "for letter, percentage in sorted_letters:\n",
    "    sorted_letters_split.append((letter, percentage))\n",
    "sorted_letters = sorted_letters_split\n",
    "print(\"Перші 5 літер:\")\n",
    "for letter, percentage in sorted_letters[:5]:\n",
    "    print(f\"{letter}: {percentage}%\")\n",
    "print(\"Останні 5 літер:\")\n",
    "for letter, percentage in sorted_letters[-5:]:\n",
    "    print(f\"{letter}: {percentage}%\")\n"
   ]
  },
  {
   "cell_type": "markdown",
   "metadata": {
    "id": "A34oz70eU463"
   },
   "source": [
    "### **Завдання 2 (1,5 бали)**\n",
    "\n",
    "Архів archive.zip містить 140 txt-файлів, в яких збережено інфорамцію про те, якими іменами називали дітей у США в період з 1880 по 2019 рік.\n",
    "\n",
    "Структура рядка кожного файлу така:\n",
    "\n",
    "*name,sex,number_of_occurrences*\n",
    "\n",
    "Напишіть програму, яка зчитуватиме кожен файл та визначатиме окремо чоловічі, окремо жіночі імена, що були найпопулярнішими хоча б в один з років. Далі програма повинна підраховувати, скільки разів кожне з цих імен ставало найпопулярнишим, та виводити ранжовані списки чоловічіх та жіночих імен у вигляді:\n",
    "\n",
    "```\n",
    "Michael 44\n",
    "John 44\n",
    "Robert 17\n",
    "...\n",
    "\n",
    "Mary 76\n",
    "Jennifer 15\n",
    "Emily 12\n",
    "...\n",
    "```"
   ]
  },
  {
   "cell_type": "code",
   "execution_count": null,
   "metadata": {},
   "outputs": [],
   "source": []
  }
 ],
 "metadata": {
  "colab": {
   "collapsed_sections": [],
   "name": "Practice_14_KM_01.ipynb",
   "provenance": []
  },
  "kernelspec": {
   "display_name": "Python 3",
   "name": "python3"
  },
  "language_info": {
   "codemirror_mode": {
    "name": "ipython",
    "version": 3
   },
   "file_extension": ".py",
   "mimetype": "text/x-python",
   "name": "python",
   "nbconvert_exporter": "python",
   "pygments_lexer": "ipython3",
   "version": "3.12.6"
  }
 },
 "nbformat": 4,
 "nbformat_minor": 0
}
